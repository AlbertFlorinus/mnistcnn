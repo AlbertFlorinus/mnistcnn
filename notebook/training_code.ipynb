{
  "nbformat": 4,
  "nbformat_minor": 0,
  "metadata": {
    "colab": {
      "name": "alnet3.ipynb",
      "provenance": [],
      "collapsed_sections": [],
      "authorship_tag": "ABX9TyPIuYMw0sI2KVuUt/jfHMwd",
      "include_colab_link": true
    },
    "kernelspec": {
      "name": "python3",
      "display_name": "Python 3"
    },
    "language_info": {
      "name": "python"
    },
    "accelerator": "GPU"
  },
  "cells": [
    {
      "cell_type": "markdown",
      "metadata": {
        "id": "view-in-github",
        "colab_type": "text"
      },
      "source": [
        "<a href=\"https://colab.research.google.com/github/AlbertFlorinus/mnistcnn/blob/Colab_setup/notebook/training_code.ipynb\" target=\"_parent\"><img src=\"https://colab.research.google.com/assets/colab-badge.svg\" alt=\"Open In Colab\"/></a>"
      ]
    },
    {
      "cell_type": "code",
      "metadata": {
        "id": "0eCVBO0zGD0T"
      },
      "source": [
        "from scipy.ndimage import rotate\n",
        "import numpy as np\n",
        "import keras\n",
        "from keras.datasets import mnist\n",
        "from keras.models import Sequential\n",
        "from keras.layers import Dense, Dropout, Activation, Flatten\n",
        "from keras.optimizers import Adam, Adadelta\n",
        "from keras.losses import categorical_crossentropy\n",
        "from keras.layers.normalization import BatchNormalization\n",
        "from keras.utils import np_utils\n",
        "from keras.layers import Conv2D, MaxPooling2D, ZeroPadding2D, GlobalAveragePooling2D\n",
        "from keras.layers.advanced_activations import LeakyReLU \n",
        "from keras.preprocessing.image import ImageDataGenerator\n",
        "from keras.preprocessing import image\n",
        "from keras.callbacks import LearningRateScheduler, CSVLogger\n",
        "from cv2 import cv2"
      ],
      "execution_count": 22,
      "outputs": []
    },
    {
      "cell_type": "code",
      "metadata": {
        "id": "sgue2U8lGeqV"
      },
      "source": [
        "# gathering the mnist-dataset, train is used for training,\n",
        "# test is used to predict images previously unseen,\n",
        "# we do this to ensure overfitting has not occurred,\n",
        "# y are labels to X which are the images\n",
        "\n",
        "(X_train, Y_train), (X_test, Y_test) = mnist.load_data()"
      ],
      "execution_count": 23,
      "outputs": []
    },
    {
      "cell_type": "code",
      "metadata": {
        "id": "erY8V30VGe6Z"
      },
      "source": [
        "# reshaping for keras compatibility\n",
        "X_train = X_train.reshape(X_train.shape[0], 28, 28, 1)\n",
        "X_test = X_test.reshape(X_test.shape[0], 28, 28, 1)\n"
      ],
      "execution_count": 24,
      "outputs": []
    },
    {
      "cell_type": "code",
      "metadata": {
        "id": "uWM5pMH8GmOy"
      },
      "source": [
        "# changing datatype from uint8 to float32,\n",
        "# this is to allow for normalizising the pixel value,\n",
        "# between 0 and 1\n",
        "X_train = X_train.astype('float32')\n",
        "X_test = X_test.astype('float32')\n",
        "\n",
        "# normalizing pixels\n",
        "X_train/=255\n",
        "X_test/=255\n"
      ],
      "execution_count": 25,
      "outputs": []
    },
    {
      "cell_type": "code",
      "metadata": {
        "id": "B4ycgaHtGp2n"
      },
      "source": [
        "# one-hot-encoding the outputs, or in simpler terms,\n",
        "# storing the outputs as a vector of 1x10\n",
        "number_of_classes = 10\n",
        "Y_train = np_utils.to_categorical(Y_train, number_of_classes)\n",
        "Y_test = np_utils.to_categorical(Y_test, number_of_classes)\n"
      ],
      "execution_count": 26,
      "outputs": []
    },
    {
      "cell_type": "code",
      "metadata": {
        "id": "ECkrZBliI4lA",
        "outputId": "1013cbd7-5136-4e9d-bede-b18aaf0b0bab",
        "colab": {
          "base_uri": "https://localhost:8080/"
        }
      },
      "source": [
        "print(Y_train.shape, Y_test.shape)"
      ],
      "execution_count": 27,
      "outputs": [
        {
          "output_type": "stream",
          "text": [
            "(60000, 10) (10000, 10)\n"
          ],
          "name": "stdout"
        }
      ]
    },
    {
      "cell_type": "code",
      "metadata": {
        "id": "RSx-lzATGR3U"
      },
      "source": [
        "model = Sequential()"
      ],
      "execution_count": 28,
      "outputs": []
    },
    {
      "cell_type": "code",
      "metadata": {
        "id": "pk1i9ODrG0A9"
      },
      "source": [
        "# each convolutional/conv layer distorts the input arrays\n",
        "# each model.add creates a new layer in the network\n",
        "# adding a spatial convolutional/conv layer and \n",
        "# declaring input shape required for the img array\n",
        "# input shape value only needed for first conv\n",
        "# 32 for the amount of filters and thus also feature maps outputed,\n",
        "# (3,3) for filter size, default stride is 1\n",
        "\n",
        "#model.add(Conv2D(16, (20,20), strides = 2, activation=\"relu\", input_shape=(112,112,1), padding=\"same\"))\n",
        "#model.add(Conv2D(16, (10,10), strides = 2, activation=\"relu\", padding=\"same\"))\n",
        "\n",
        "model.add(Conv2D(32, (3,3), activation=\"relu\", input_shape = (28,28,1), padding=\"same\" ) )\n",
        "# adding a batchnormalization layer to reduce a batchs covariant shift,\n",
        "# normalizing the images to execute more effectively,\n",
        "model.add(BatchNormalization())\n",
        "\n",
        "model.add(Conv2D(32, (3,3), activation=\"relu\"))\n",
        "model.add(BatchNormalization())\n",
        "\n",
        "# adding conv layer with 5x5 filter and a stride of 2 instead of max pooling,\n",
        "# downsampling image but retaining import data for classification.\n",
        "model.add(Conv2D(32, (5,5), strides=2, padding=\"same\",activation=\"relu\"))\n",
        "model.add(BatchNormalization())\n",
        "\n",
        "# using dropout with a rate 0f 0.4, this randomly \"drops\",\n",
        "# 40% of the nodes to a output value of 0 each iteration, which helps prevent overfitting\n",
        "model.add(Dropout(0.4))\n",
        "\n",
        "# raise amount from 32 to 64\n",
        "model.add(Conv2D(64, (3,3), activation=\"relu\"))\n",
        "model.add(BatchNormalization())\n",
        "model.add(Conv2D(64, (3,3), activation=\"relu\"))\n",
        "model.add(BatchNormalization())\n",
        "\n",
        "\n",
        "model.add(Conv2D(64, (5,5), strides=2, padding=\"same\", activation=\"relu\"))\n",
        "model.add(BatchNormalization())\n",
        "model.add(Dropout(0.4))\n",
        "\n",
        "# flattening the input to a 1d array,\n",
        "# flattening the pixel data of 64 4x4 arrays\n",
        "# to a 1d array containing 1024 pixel values,\n",
        "# not 1024 pixels of the original image but of the,\n",
        "# outputs from the convolutional neural network\n",
        "# this ends the spatial/convolutional part of the network\n",
        "model.add(Flatten())\n",
        "\n",
        "# adding a fully connected layer of 128 neurons\n",
        "model.add(Dense(128, activation=\"relu\"))\n",
        "model.add(BatchNormalization())\n",
        "model.add(Dropout(0.4))\n",
        "\n",
        "# Final layer of 10 neurons with a softmax activation,\n",
        "# this outputs a prediction (number with highest activation value)\n",
        "model.add(Dense(number_of_classes, activation=\"softmax\"))\n"
      ],
      "execution_count": 29,
      "outputs": []
    },
    {
      "cell_type": "code",
      "metadata": {
        "id": "ijss7shQHDE5"
      },
      "source": [
        "# Declaring loss function and optimizer,\n",
        "# Adam is an enhancement of SGD.\n",
        "# Accuracy metric for us to get results for evaluating the model \n",
        "model.compile(loss=\"categorical_crossentropy\", optimizer=Adam(), metrics=[\"accuracy\"])"
      ],
      "execution_count": 30,
      "outputs": []
    },
    {
      "cell_type": "code",
      "metadata": {
        "id": "gEdcqQBhGMW3"
      },
      "source": [
        "# Number of images to iterate simultaneously before each weight update\n",
        "batchsize = 64"
      ],
      "execution_count": 31,
      "outputs": []
    },
    {
      "cell_type": "code",
      "metadata": {
        "id": "QZgyxlzyP-1t"
      },
      "source": [
        "X_val = X_test[9000:]\n",
        "Y_val = Y_test[9000:]"
      ],
      "execution_count": 32,
      "outputs": []
    },
    {
      "cell_type": "code",
      "metadata": {
        "id": "Z9M1uywOVEqF"
      },
      "source": [
        "X_test = X_test[:9000]\n",
        "Y_test = Y_test[:9000]\n"
      ],
      "execution_count": 33,
      "outputs": []
    },
    {
      "cell_type": "code",
      "metadata": {
        "id": "Ld0kqmXyQM-H",
        "outputId": "04667e7f-cb24-4d5c-90e1-66904eeab4b3",
        "colab": {
          "base_uri": "https://localhost:8080/"
        }
      },
      "source": [
        "print(X_test.shape, Y_test.shape)\n",
        "print(X_val.shape, Y_val.shape)"
      ],
      "execution_count": 35,
      "outputs": [
        {
          "output_type": "stream",
          "text": [
            "(9000, 28, 28, 1) (9000, 10)\n",
            "(1000, 28, 28, 1) (1000, 10)\n"
          ],
          "name": "stdout"
        }
      ]
    },
    {
      "cell_type": "code",
      "metadata": {
        "id": "aeIBu7mrHH6Z"
      },
      "source": [
        "# Augmentning training data for better generalisation,\n",
        "# and prevent overfitting\n",
        "gen = ImageDataGenerator(rotation_range=15, width_shift_range=0.1, height_shift_range=0.1, zoom_range=0.15)\n",
        "train_generator = gen.flow(X_train, Y_train, batch_size=batchsize)"
      ],
      "execution_count": 36,
      "outputs": []
    },
    {
      "cell_type": "code",
      "metadata": {
        "id": "0NGJFJb2VPAr"
      },
      "source": [
        "testing_generator = gen.flow(X_test, Y_test, batch_size=batchsize)"
      ],
      "execution_count": 37,
      "outputs": []
    },
    {
      "cell_type": "code",
      "metadata": {
        "id": "V1xXTUZCHObY"
      },
      "source": [
        "# Reducing learning rate to 95% of the last epoch,\n",
        "# speeding up convergence by keeping weight updates smaller as the model,\n",
        "# approaches convergence.\n",
        "annealer = LearningRateScheduler(lambda x: 1e-3 * 0.95 ** x)"
      ],
      "execution_count": 38,
      "outputs": []
    },
    {
      "cell_type": "code",
      "metadata": {
        "id": "txK7a0ZLG_-M"
      },
      "source": [
        "# Log file for tracking information about the learning process and its metrics\n",
        "csv_logger = CSVLogger(\"training_test.log\", append=True, separator=\";\")"
      ],
      "execution_count": 39,
      "outputs": []
    },
    {
      "cell_type": "code",
      "metadata": {
        "colab": {
          "base_uri": "https://localhost:8080/"
        },
        "id": "aIj9Df2WMtCS",
        "outputId": "2bed7dac-c194-4900-a621-cc008492e4ff"
      },
      "source": [
        "# starting training, validation_data is mnist data not trained on,\n",
        "# to ensure us we arent overfitting to the training set but actually generalising\n",
        "history = model.fit(train_generator,steps_per_epoch=X_train.shape[0]//batchsize, epochs=10, \n",
        "                  validation_data=testing_generator, callbacks=[annealer, csv_logger], verbose=1)\n"
      ],
      "execution_count": 40,
      "outputs": [
        {
          "output_type": "stream",
          "text": [
            "Epoch 1/10\n",
            "937/937 [==============================] - 23s 22ms/step - loss: 0.8125 - accuracy: 0.7542 - val_loss: 0.0757 - val_accuracy: 0.9749\n",
            "Epoch 2/10\n",
            "937/937 [==============================] - 20s 22ms/step - loss: 0.1282 - accuracy: 0.9608 - val_loss: 0.0453 - val_accuracy: 0.9857\n",
            "Epoch 3/10\n",
            "937/937 [==============================] - 20s 22ms/step - loss: 0.0902 - accuracy: 0.9737 - val_loss: 0.0480 - val_accuracy: 0.9840\n",
            "Epoch 4/10\n",
            "937/937 [==============================] - 20s 22ms/step - loss: 0.0759 - accuracy: 0.9767 - val_loss: 0.0365 - val_accuracy: 0.9878\n",
            "Epoch 5/10\n",
            "937/937 [==============================] - 20s 22ms/step - loss: 0.0680 - accuracy: 0.9792 - val_loss: 0.0345 - val_accuracy: 0.9888\n",
            "Epoch 6/10\n",
            "937/937 [==============================] - 20s 22ms/step - loss: 0.0639 - accuracy: 0.9819 - val_loss: 0.0270 - val_accuracy: 0.9910\n",
            "Epoch 7/10\n",
            "937/937 [==============================] - 21s 22ms/step - loss: 0.0537 - accuracy: 0.9832 - val_loss: 0.0302 - val_accuracy: 0.9913\n",
            "Epoch 8/10\n",
            "937/937 [==============================] - 20s 22ms/step - loss: 0.0534 - accuracy: 0.9847 - val_loss: 0.0260 - val_accuracy: 0.9913\n",
            "Epoch 9/10\n",
            "937/937 [==============================] - 20s 22ms/step - loss: 0.0454 - accuracy: 0.9866 - val_loss: 0.0280 - val_accuracy: 0.9914\n",
            "Epoch 10/10\n",
            "937/937 [==============================] - 20s 22ms/step - loss: 0.0453 - accuracy: 0.9869 - val_loss: 0.0263 - val_accuracy: 0.9927\n"
          ],
          "name": "stdout"
        }
      ]
    },
    {
      "cell_type": "code",
      "metadata": {
        "id": "BbDlvbVnHW5h"
      },
      "source": [
        "model.save(\"ALnet-3.0.h5\")"
      ],
      "execution_count": 41,
      "outputs": []
    },
    {
      "cell_type": "code",
      "metadata": {
        "id": "A_lsTHyAHY9b",
        "outputId": "b23ed9e8-8fc1-4373-fd07-8d77fcf13133",
        "colab": {
          "base_uri": "https://localhost:8080/"
        }
      },
      "source": [
        "score = model.evaluate(x=X_val, y=Y_val, verbose=1)\n",
        "print(\"Test loss: \", score[0])\n",
        "print(\"Test accuracy: \", score[1])"
      ],
      "execution_count": 42,
      "outputs": [
        {
          "output_type": "stream",
          "text": [
            "32/32 [==============================] - 1s 4ms/step - loss: 0.0105 - accuracy: 0.9980\n",
            "Test loss:  0.01053579617291689\n",
            "Test accuracy:  0.9980000257492065\n"
          ],
          "name": "stdout"
        }
      ]
    },
    {
      "cell_type": "code",
      "metadata": {
        "id": "UKTU3Ken6X7E",
        "outputId": "93840747-cc23-4c07-bce6-9c73eaa1b3f4",
        "colab": {
          "base_uri": "https://localhost:8080/"
        }
      },
      "source": [
        "# printing Alnet-3.0 structure \n",
        "for layer in model.layers:\n",
        "  print(layer.output_shape)"
      ],
      "execution_count": 49,
      "outputs": [
        {
          "output_type": "stream",
          "text": [
            "(None, 28, 28, 32)\n",
            "(None, 28, 28, 32)\n",
            "(None, 26, 26, 32)\n",
            "(None, 26, 26, 32)\n",
            "(None, 13, 13, 32)\n",
            "(None, 13, 13, 32)\n",
            "(None, 13, 13, 32)\n",
            "(None, 11, 11, 64)\n",
            "(None, 11, 11, 64)\n",
            "(None, 9, 9, 64)\n",
            "(None, 9, 9, 64)\n",
            "(None, 5, 5, 64)\n",
            "(None, 5, 5, 64)\n",
            "(None, 5, 5, 64)\n",
            "(None, 1600)\n",
            "(None, 128)\n",
            "(None, 128)\n",
            "(None, 128)\n",
            "(None, 10)\n"
          ],
          "name": "stdout"
        }
      ]
    }
  ]
}