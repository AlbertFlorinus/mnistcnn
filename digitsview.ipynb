{
  "nbformat": 4,
  "nbformat_minor": 0,
  "metadata": {
    "colab": {
      "name": "digitsview.ipynb",
      "provenance": [],
      "collapsed_sections": [],
      "authorship_tag": "ABX9TyPzp61Qjy1+CWdvCPGYPXjG",
      "include_colab_link": true
    },
    "kernelspec": {
      "name": "python3",
      "display_name": "Python 3"
    },
    "language_info": {
      "name": "python"
    }
  },
  "cells": [
    {
      "cell_type": "markdown",
      "metadata": {
        "id": "view-in-github",
        "colab_type": "text"
      },
      "source": [
        "<a href=\"https://colab.research.google.com/github/AlbertFlorinus/mnistcnn/blob/preprocessing_notes/digitsview.ipynb\" target=\"_parent\"><img src=\"https://colab.research.google.com/assets/colab-badge.svg\" alt=\"Open In Colab\"/></a>"
      ]
    },
    {
      "cell_type": "code",
      "metadata": {
        "id": "7N51u3YKtcmU"
      },
      "source": [
        "from tkinter.filedialog import askopenfilename\n",
        "from keras.preprocessing import image\n",
        "from scipy.ndimage import rotate\n",
        "import numpy as np\n",
        "from keras.models import load_model\n",
        "import matplotlib.pyplot as plt\n",
        "import os\n",
        "from cv2 import cv2\n",
        "import math\n",
        "from scipy import ndimage\n",
        "\n",
        "import sys\n",
        "\n",
        "from PIL import Image"
      ],
      "execution_count": 1,
      "outputs": []
    },
    {
      "cell_type": "code",
      "metadata": {
        "id": "om380NZsvoww"
      },
      "source": [
        "def getBestShift(img):\n",
        "  cy,cx = ndimage.measurements.center_of_mass(img)\n",
        "  \n",
        "  rows,cols = img.shape\n",
        "  shiftx = np.round(cols/2.0-cx).astype(int)\n",
        "  shifty = np.round(rows/2.0-cy).astype(int)\n",
        "  return shiftx,shifty"
      ],
      "execution_count": 2,
      "outputs": []
    },
    {
      "cell_type": "code",
      "metadata": {
        "id": "mb1pH3SxxNFc"
      },
      "source": [
        "def shift(img, sx, sy):\n",
        "  # preprocessing\n",
        "  rows,cols = img.shape\n",
        "  M = np.float32([[1,0,sx],[0,1,sy]])\n",
        "  shifted = cv2.warpAffine(img,M,(cols,rows))\n",
        "  return shifted"
      ],
      "execution_count": 3,
      "outputs": []
    },
    {
      "cell_type": "code",
      "metadata": {
        "id": "FnWEr8yTxUBu"
      },
      "source": [
        "def image_manip(subj, prc = True):\n",
        "  # this method uses the methods \"shift\" and \"getBestShift\" to preprocess the image.\n",
        "\n",
        "  # this code (50-62) removes the rows and columns at the edge of the image,\n",
        "  # which are completely black as a result of previous thresholding.\n",
        "  # this resize the image to 71% rounded up of the previous size,\n",
        "  # so that a size of 112x112 now becomes 80x80, with the edges not containing information,\n",
        "  # of the digits now removed.\n",
        "  while np.sum(subj[0]) == 0:\n",
        "      subj = subj[1:]\n",
        "\n",
        "  while np.sum(subj[:,0]) == 0:\n",
        "      subj = np.delete(subj,0,1)\n",
        "\n",
        "  while np.sum(subj[-1]) == 0:\n",
        "      subj = subj[:-1]\n",
        "\n",
        "  while np.sum(subj[:,-1]) == 0:\n",
        "      subj = np.delete(subj,-1,1)\n",
        "\n",
        "  rows,cols = subj.shape\n",
        "\n",
        "  # this resize the\n",
        "  if rows > cols:\n",
        "      factor = 80.0/rows\n",
        "      rows = 80\n",
        "      cols = int(round(cols*factor))\n",
        "      subj = cv2.resize(subj, (cols,rows))\n",
        "  else:\n",
        "      factor = 80.0/cols\n",
        "      cols = 80\n",
        "      rows = int(round(rows*factor))\n",
        "      subj = cv2.resize(subj, (cols, rows))\n",
        "\n",
        "  # get padding\n",
        "  colsPadding = (int(math.ceil((112-cols)/2.0)),int(math.floor((112-cols)/2.0)))\n",
        "  rowsPadding = (int(math.ceil((112-rows)/2.0)),int(math.floor((112-rows)/2.0)))\n",
        "\n",
        "  # apply padding\n",
        "  subj = np.lib.pad(subj,(rowsPadding,colsPadding),'constant')\n",
        "  \n",
        "  # some preprocessing\n",
        "  if prc == True:\n",
        "    shiftx,shifty = getBestShift(subj)\n",
        "    shifted = shift(subj,shiftx,shifty)\n",
        "    subj_done = shifted\n",
        "  else:\n",
        "    subj_done = subj\n",
        "  return subj_done"
      ],
      "execution_count": 4,
      "outputs": []
    },
    {
      "cell_type": "code",
      "metadata": {
        "id": "IU0MD5he6CoU"
      },
      "source": [
        "gray_orig = cv2.imread('my_project/exampledigit.JPG', 0)\n",
        "gray_orig6 = cv2.imread('my_project/example6.JPG', 0)"
      ],
      "execution_count": 5,
      "outputs": []
    },
    {
      "cell_type": "code",
      "metadata": {
        "id": "G6dflECS8E2U"
      },
      "source": [
        "#This is the original image \n",
        "#plt.imshow(gray_orig, cmap=\"gray\")"
      ],
      "execution_count": 6,
      "outputs": []
    },
    {
      "cell_type": "code",
      "metadata": {
        "id": "9fZ88vJ-BnLJ"
      },
      "source": [
        "def boilerplate(img, img2):\n",
        "  # converting PIL image to numpy array\n",
        "  img = image.img_to_array(img)\n",
        "  img2 = image.img_to_array(img2)\n",
        "  #original = image.img_to_array(gray)\n",
        "\n",
        "  # reshaping to 1 channel (its only 1 image), 112x112 shape, and 1 color channel (grayscale)\n",
        "  test_img = img.reshape((1,112,112,1))\n",
        "  test_img2 = img2.reshape((1,112,112,1))\n",
        "  #original = original.reshape((1,112,112,1))\n",
        "\n",
        "  # change datatype from uint8 to float32\n",
        "  test_img = img.astype('float32')\n",
        "  test_img2 = img2.astype('float32')\n",
        "  #original = original.astype('float32')\n",
        "\n",
        "  # normalizing pixels in the decimal range 0 to 1\n",
        "  test_img /= 255\n",
        "  test_img2 /= 255\n",
        "  #original /= 255\n",
        "\n",
        "  # extend axis at index[0] to ready for prediction\n",
        "  # These are inputs to the neural net\n",
        "  test_img = np.expand_dims(test_img, axis=0)\n",
        "  test_img2 = np.expand_dims(test_img2, axis=0)\n",
        "  #original = np.expand_dims(original, axis=0)\n",
        "\n",
        "  # reshaping again for showing image to user\n",
        "  test_img = test_img.reshape((112,112))\n",
        "  test_img2 = test_img2.reshape((112,112))\n",
        "  return test_img, test_img2"
      ],
      "execution_count": 7,
      "outputs": []
    },
    {
      "cell_type": "code",
      "metadata": {
        "id": "5usLvfvhDlXU"
      },
      "source": [
        "def boilerplate_newer(*args):\n",
        "  holder = []\n",
        "  for i in args:\n",
        "      \n",
        "    # converting PIL image to numpy array\n",
        "    i = image.img_to_array(i)\n",
        "\n",
        "    # reshaping to 1 channel (its only 1 image), 112x112 shape, and 1 color channel (grayscale)\n",
        "    i = i.reshape((1,112,112,1))\n",
        "\n",
        "    # change datatype from uint8 to float32\n",
        "    i = i.astype('float32')\n",
        "\n",
        "    # normalizing pixels in the decimal range 0 to 1\n",
        "    i /= 255\n",
        "\n",
        "    # extend axis at index[0] to ready for prediction\n",
        "    # These are inputs to the neural net\n",
        "    i = np.expand_dims(i, axis=0)\n",
        "\n",
        "    # reshaping again for showing image to user\n",
        "    i = i.reshape((112,112))\n",
        "    holder.append(i)\n",
        "  return holder[0], holder[1], holder[2]"
      ],
      "execution_count": 8,
      "outputs": []
    },
    {
      "cell_type": "code",
      "metadata": {
        "id": "ZkfXLNd4B7Fi"
      },
      "source": [
        "def predict_chosen(gray):\n",
        "\n",
        "  # dilate img\n",
        "  dilated_gray = cv2.dilate(gray, np.ones((7,7), np.uint8))\n",
        "  \n",
        "  # median blur the dilated img to further suppress detail\n",
        "  bg_gray = cv2.medianBlur(dilated_gray, 21)\n",
        "\n",
        "  # calculate difference between gray(original img) and bg_gray.\n",
        "  # identical pixels will be black(close to 0 difference), the digits details will be white(large difference).\n",
        "  diff_gray = 255 - cv2.absdiff(gray, bg_gray)\n",
        "\n",
        "  # normalize the image, so that we use the full dynamic range.\n",
        "  norm_gray = diff_gray.copy()\n",
        "  cv2.normalize(diff_gray, norm_gray, alpha=0, beta=255, norm_type=cv2.NORM_MINMAX, dtype=cv2.CV_8UC1)\n",
        "\n",
        "  # now the image is still gray in some areas, so we truncate that away and re-normalize the image.\n",
        "  _, thr_gray = cv2.threshold(norm_gray, 253, 0, cv2.THRESH_TRUNC)\n",
        "  cv2.normalize(thr_gray, thr_gray, alpha=0, beta=255, norm_type=cv2.NORM_MINMAX, dtype=cv2.CV_8UC1)\n",
        "\n",
        "  # inverting color and rezising image to 112x112\n",
        "  gray1 = cv2.resize(255-thr_gray, (112, 112), interpolation=cv2.INTER_AREA)\n",
        "\n",
        "  # we have variables gray and gray2 to differentiate between two ways of thresholding.\n",
        "  # Alnet-2.0 will make predictions on both of these, and combine the two to get our resulting classification.\n",
        "  gray0 = cv2.adaptiveThreshold(gray1, 255, cv2.ADAPTIVE_THRESH_GAUSSIAN_C, cv2.THRESH_BINARY_INV, 5, 3)\n",
        "  (thresh, gray2) = cv2.threshold(gray1, 128, 255, cv2.THRESH_BINARY | cv2.THRESH_OTSU)\n",
        "  \n",
        "  img = image_manip(gray0)\n",
        "  img2 = image_manip(gray2)\n",
        "\n",
        "  original = image_manip(gray0, prc = False)\n",
        "\n",
        "  # converting PIL image to numpy array\n",
        "  img = image.img_to_array(img)\n",
        "  img2 = image.img_to_array(img2)\n",
        "  original = image.img_to_array(original)\n",
        "\n",
        "  test_img, test_img2, original = boilerplate_newer(img, img2, original)\n",
        "\n",
        "  # lines 181-195 displays to the user gray and gray2, values of k and j, and the estimated classname for the original image chosen\n",
        "  fig = plt.figure(figsize=(8,8))\n",
        "  columns = 3\n",
        "  rows = 1\n",
        "  plt.gray()\n",
        "  fig.add_subplot(rows, columns, 1).set_title(\"adaptive_Threshold\")\n",
        "  plt.imshow(test_img)\n",
        "  fig.add_subplot(rows, columns, 2).set_title(\"Threshold\")\n",
        "  plt.imshow(test_img2)\n",
        "  fig.add_subplot(rows, columns, 3).set_title(\"Original\")\n",
        "  plt.imshow(original)\n",
        "  plt.show()"
      ],
      "execution_count": 9,
      "outputs": []
    },
    {
      "cell_type": "code",
      "metadata": {
        "colab": {
          "base_uri": "https://localhost:8080/",
          "height": 195
        },
        "id": "UoNhkN9CCK6x",
        "outputId": "975572fe-5122-4a52-91ee-9928887dfcfb"
      },
      "source": [
        "predict_chosen(gray_orig)"
      ],
      "execution_count": 10,
      "outputs": [
        {
          "output_type": "display_data",
          "data": {
            "image/png": "[encoded data removed]",
            "text/plain": [
              "<Figure size 576x576 with 3 Axes>"
            ]
          },
          "metadata": {
            "tags": [],
            "needs_background": "light"
          }
        }
      ]
    },
    {
      "cell_type": "code",
      "metadata": {
        "colab": {
          "base_uri": "https://localhost:8080/",
          "height": 195
        },
        "id": "jpD4zANCSCam",
        "outputId": "c3c04ee7-376c-4a93-9274-f95306443a25"
      },
      "source": [
        "predict_chosen(gray_orig6)"
      ],
      "execution_count": 11,
      "outputs": [
        {
          "output_type": "display_data",
          "data": {
            "image/png": "[encoded data removed]",
            "text/plain": [
              "<Figure size 576x576 with 3 Axes>"
            ]
          },
          "metadata": {
            "tags": [],
            "needs_background": "light"
          }
        }
      ]
    }
  ]
}